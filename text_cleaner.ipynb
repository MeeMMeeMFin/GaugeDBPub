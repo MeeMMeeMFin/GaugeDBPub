{
 "cells": [
  {
   "cell_type": "markdown",
   "metadata": {},
   "source": [
    "# Idea\n",
    "1. Pull sets of data from steam game\n",
    "2. Get correct text from steam [text formatting](https://steamcommunity.com/comment/Recommendation/formattinghelp) from reviews forms\n",
    "3. Remove rest of steam [text formatting](https://steamcommunity.com/comment/Recommendation/formattinghelp)\n",
    "4. Clean from ascii art\n",
    "5. Save non-english reviews to seperate db & remove from dataset\n",
    "6. Author unravel\n",
    "7. Word 2 number\n",
    "8. Save to sqlite via duckdb\n",
    "\n",
    "# Knowledge\n",
    "29 sets of review_list from steam is about 0,5MB = 4 Mb"
   ]
  },
  {
   "cell_type": "code",
   "execution_count": 1,
   "metadata": {},
   "outputs": [
    {
     "name": "stdout",
     "output_type": "stream",
     "text": [
      "Python 3.12.3\n"
     ]
    }
   ],
   "source": [
    "!python3 --version"
   ]
  },
  {
   "cell_type": "code",
   "execution_count": 2,
   "metadata": {},
   "outputs": [
    {
     "name": "stdout",
     "output_type": "stream",
     "text": [
      "\u001b[1;31merror\u001b[0m: \u001b[1mexternally-managed-environment\u001b[0m\n",
      "\n",
      "\u001b[31m×\u001b[0m This environment is externally managed\n",
      "\u001b[31m╰─>\u001b[0m To install Python packages system-wide, try apt install\n",
      "\u001b[31m   \u001b[0m python3-xyz, where xyz is the package you are trying to\n",
      "\u001b[31m   \u001b[0m install.\n",
      "\u001b[31m   \u001b[0m \n",
      "\u001b[31m   \u001b[0m If you wish to install a non-Debian-packaged Python package,\n",
      "\u001b[31m   \u001b[0m create a virtual environment using python3 -m venv path/to/venv.\n",
      "\u001b[31m   \u001b[0m Then use path/to/venv/bin/python and path/to/venv/bin/pip. Make\n",
      "\u001b[31m   \u001b[0m sure you have python3-full installed.\n",
      "\u001b[31m   \u001b[0m \n",
      "\u001b[31m   \u001b[0m If you wish to install a non-Debian packaged Python application,\n",
      "\u001b[31m   \u001b[0m it may be easiest to use pipx install xyz, which will manage a\n",
      "\u001b[31m   \u001b[0m virtual environment for you. Make sure you have pipx installed.\n",
      "\u001b[31m   \u001b[0m \n",
      "\u001b[31m   \u001b[0m See /usr/share/doc/python3.12/README.venv for more information.\n",
      "\n",
      "\u001b[1;35mnote\u001b[0m: If you believe this is a mistake, please contact your Python installation or OS distribution provider. You can override this, at the risk of breaking your Python installation or OS, by passing --break-system-packages.\n",
      "\u001b[1;36mhint\u001b[0m: See PEP 668 for the detailed specification.\n"
     ]
    }
   ],
   "source": [
    "!pip install duckdb"
   ]
  },
  {
   "cell_type": "code",
   "execution_count": 1,
   "metadata": {},
   "outputs": [],
   "source": [
    "import duckdb as db\n",
    "import polars as pl\n",
    "import requests\n",
    "import sys\n",
    "\n",
    "def find_game_by_name(game) -> tuple:\n",
    "    str; url = \"http://api.steampowered.com/ISteamApps/GetAppList/v0002/\"\n",
    "    dict; game_id_list = requests.get(url).json()\n",
    "\n",
    "    if type(game) == int:\n",
    "        identify = \"appid\"\n",
    "    else:\n",
    "        identify = \"name\"\n",
    "        print(\"String input given\")\n",
    "    #print(game_id_list)\n",
    "    for app in game_id_list[\"applist\"][\"apps\"]:\n",
    "        #print(app[identify])\n",
    "        if app[identify] == game:\n",
    "            return (app[\"appid\"], app[\"name\"])\n",
    "    print(\"not found\")\n",
    "    return False, False"
   ]
  },
  {
   "cell_type": "code",
   "execution_count": 2,
   "metadata": {},
   "outputs": [],
   "source": [
    "def calculate_memory(response,keys):\n",
    "    \"\"\"\n",
    "    This is a tool which helps measurte objects' memory usage/size\n",
    "\n",
    "    sys.getsizeof returns bytes(B)\n",
    "    \"\"\"\n",
    "    mem = 0\n",
    "    mem2 = 0\n",
    "    for key1 in ['query_summary', 'reviews', 'cursor']:\n",
    "        if response[key1].__class__ == dict:\n",
    "            for key2 in response[key1].keys():\n",
    "                if response[key1][key2].__class__ == dict:\n",
    "                    for key3 in response[key1][key2].keys():\n",
    "                        if response[key1][key2][key3].__class__ == dict:\n",
    "                            print(f'({key1},{key2},{key3})')\n",
    "                            continue\n",
    "                        mem += sys.getsizeof(response[key1][key2][key3])\n",
    "                    continue\n",
    "                mem += sys.getsizeof(response[key1][key2])\n",
    "            continue\n",
    "        mem += sys.getsizeof(response[key1])\n",
    "    for review in response['reviews']:\n",
    "        for key in review['author'].keys():\n",
    "            if review['author'][key].__class__ == dict:\n",
    "                1+1\n",
    "                #print(f'key: {key}, keys: {review[\"author\"][key].keys()}')\n",
    "            else:\n",
    "                mem2 += sys.getsizeof(review['author'][key])\n",
    "        for key in keys:\n",
    "            if review[key].__class__ == dict:\n",
    "                1+1\n",
    "                #print(f'key: {key}, keys: {review[key].keys()}')\n",
    "            else:\n",
    "                mem2 += sys.getsizeof(review[key])\n",
    "    return mem + mem2"
   ]
  },
  {
   "cell_type": "code",
   "execution_count": 3,
   "metadata": {},
   "outputs": [
    {
     "name": "stdout",
     "output_type": "stream",
     "text": [
      "String input given\n",
      "367520\n"
     ]
    }
   ],
   "source": [
    "parameters = {\"json\": 1, \"filter\":\"recent\", \"num_per_page\":100, \"language\": \"english\", \"purchase_type\":\"all\", \"day_range\":365, \"cursor\":\"*\"}\n",
    "\n",
    "game = 'Hollow Knight'\n",
    "if game.__class__ == str:\n",
    "    game = find_game_by_name(game)[0]\n",
    "print(game)\n",
    "url = f'https://store.steampowered.com/appreviews/{game}'\n",
    "response = requests.get(url, params=parameters).json()\n",
    "del response['success']\n",
    "response.keys()\n",
    "keys = list(response['reviews'][0].keys())"
   ]
  },
  {
   "cell_type": "code",
   "execution_count": 4,
   "metadata": {},
   "outputs": [
    {
     "data": {
      "text/plain": [
       "1317"
      ]
     },
     "execution_count": 4,
     "metadata": {},
     "output_type": "execute_result"
    }
   ],
   "source": [
    "import math\n",
    "iterations = math.ceil(response['query_summary']['total_reviews'] / 100) - 1\n",
    "iterations"
   ]
  },
  {
   "cell_type": "code",
   "execution_count": 5,
   "metadata": {},
   "outputs": [],
   "source": [
    "#mem_list = [calculate_memory(response,keys)]\n",
    "#for x in range(iterations):\n",
    "#    print(x,flush=True,end='\\r')\n",
    "#    parameters['cursor'] = response['cursor']\n",
    "#    response = requests.get(url, params=parameters).json()\n",
    "#    del response['success']\n",
    "#    mem_list.append(calculate_memory(response,keys))"
   ]
  },
  {
   "cell_type": "markdown",
   "metadata": {},
   "source": [
    "allocated memory / ( max_size_100_set)"
   ]
  },
  {
   "cell_type": "code",
   "execution_count": 6,
   "metadata": {},
   "outputs": [],
   "source": [
    "review_list_chunk_size = 2900"
   ]
  },
  {
   "cell_type": "markdown",
   "metadata": {},
   "source": [
    "# Clean data\n",
    "\n",
    "#### 1. Make test data\n",
    "Need dataset that has english + other languages\n",
    "#### 2. Build"
   ]
  },
  {
   "cell_type": "code",
   "execution_count": 7,
   "metadata": {},
   "outputs": [
    {
     "name": "stdout",
     "output_type": "stream",
     "text": [
      "String input given\n",
      "367520\n"
     ]
    },
    {
     "data": {
      "text/plain": [
       "['It\\'s Hollow Knight. It has >95% positive reviews (and most of those negative reviews are joke reviews anyways) and I\\'m sure you\\'ve heard just about all the praise there is for this game. So I\\'m going to rant about what I don\\'t like, even though I\\'d still recommend it.\\n\\nHollow Knight is a decently fun game with incredibly fun movement and combat mechanics. \\nUnfortunately, almost none of those mechanics ever get the chance to shine. I can only think of two bosses that have platforming as a part of the fight (maybe three, depending on if you count [spoiler]Radiance[/spoiler] and [spoiler]Absolute Radiance[/spoiler] as separate bosses) and even then it feels like an afterthought. Outside of that, any movement in boss fights can be boiled down to:\\n\"Oh, I\\'m about to get hit. I should shade cloak through that.\" or,\\n\"Oh, the boss is running away. I should dash towards them.\"\\n\\nThere\\'s also the issue of charms.\\nOn the surface, you may think: \"Wow, I get to customize a build to my preferred play style! This is great!\" \\nuntil you realize about 80% of the charms are entirely useless, or only usable in one scenario. Not to mention various quality of life mechanics taking up a charm notch (or two.) Like, why? Why can\\'t I just see where I am on the map? AND I need a bench to change them?? 9/10 times I would stumble into a boss arena with Wayward Compass, Gathering Swarm, and Dashmaster equipped, beat the boss, and not even get the chance to use the new charms I just got.\\n\\ntldr; It\\'s fun and cheap. Buy it, but be prepared for some very [i]interesting[/i] design choices.',\n",
       " \"My review had to be trimmed to fit Steam's limit, so some points were cut.\\n\\n[h1]Intro[/h1]\\nHollow Knight seems to be one of the most highly rated indie games ever. I had tried to play it several times before but couldn’t get into it; I recently played it all the way through, and now I see why. I found it surprising that I didn’t like let alone love this game given that Metroidvania is one of my favorite game genres, and Metroid is my favorite Nintendo franchise.\\n\\nWhat I realized in my playthrough is that Hollow Knight has many flaws in it’s design that often are at odds with good Metroidvania design. In trying to search for other meaningful critiques of the game, I was shocked to find that no one else had done this kind of critical analysis, with many of the criticisms I found being surface level. I took it upon myself to chronicle the flaws of the game which added up to an experience that was less than great for me. A fine game with lots of redeeming value and potential, just no masterpiece.\\n\\n[h3]The map is too big[/h3]\\nBig maps are not inherently bad, but the way in which Hollow Knight’s is designed exacerbates a lot of flaws in the whole game’s design. I’ll go through some of them:\\n\\n[h3]Backtracking is a slog[/h3]\\nOne of the symptoms of the map being not only large but also not well designed is that it forces a lot of backtracking without that backtracking being interesting. Typically when there is backtracking in Metroidvanias it will either be brief or there will be new paths and goodies to unlock. Unfortunately, \\nWhat ends up happening is that I kept dashing and dashing to get to where I thought I needed to go.\\nIn general, getting around the map sucks.\\nThe rooms also don’t feel like they are made for going through more than once, even with all the shortcuts that are unlocked.\\n\\n[h3]It is unclear where to go next[/h3]\\nOne of the pillars of metroidvania game design is guided non-linearity; essentially, the map gives the illusion of an open world to explore but subtly nudges players in the right direction so they don’t get lost and meander around the map. \\n\\n[h3]The game’s map doesn’t feature a lot of variety[/h3]\\nAside from the city and its sewers, most of the map is just caves. It makes sense given the game’s setting, but it also starts to get old after a while, especially given how long the game is, how big the map is, and how much needless and uninteresting backtracking there is.\\nIn the same areas, the rooms look very similar to each other. Different areas look like little more than a tile map and color grading swap.\\n\\nThe (arguably) essential maps and tools are locked behind an in-game currency payment\\nBuying stuff is not fun and ruins one of the biggest advantages Metroidvanias have\\nWhich is their ability to naturally have players discover rewards through their built in exploration. This is more satisfying then grinding away for more cash then to return with enough to buy something. Speaking of…\\n\\n[h3]Stop stealing mechanics from Dark Souls![/h3]\\nI don’t think any mechanics from one game should be shoved into another just because. In Hollow Knight you lose all your cash and a part of your soul vessel after dying, limiting your healing power, but a ghost of yourself appears in the room you died. What this mechanic (aka ghost running) encourages is for the player to return to an area they previously visited to collect their money and restore their soul vessel. However, in a game as open-ended as Hollow Knight, this can lead players to continue to travel in the wrong direction rather than venture off somewhere they would actually make progress. Thankfully, if you die at a boss, your ghost will be accessible without triggering said boss, but that brings me to…\\n\\n[h3]Benches are too far from boss arenas[/h3]\\nHow much should a player have to replay when failing, like when dying? Games like Super Meat Boy and Celeste have near instant respawns with little progress lost, getting the player right back into the action to reattempt the challenge. Hollow Knight does not do this, as the infrequent save points do not seem very strategically placed throughout the map, often forcing players to backtrack over and over again just to return to the challenge they failed. I wouldn’t say Hollow Knight is incredibly difficult but it’s still demanding and death for me happened more often than I’d like to admit; I hear many others find this game quite challenging, making this even less accessible for those players. That backtracking is not only boring and tedious, it feels like the game is actively not respecting my time.\\n\\n\\n[h3]The game is opaque in both story and gameplay[/h3]\\nIt doesn’t tell you much, and that’s not inherently bad; I hate games that explain everything to the point that there’s no mystery, and I love games that show instead of tell or even do instead of show. That being said, Hollow Knight’s story is so obscured that I don’t feel like I can even connect to the playable character, nor do I know its motivations or even why I should be motivated as a player to continue onward. Don’t get me wrong, I don’t need to agree with a character’s motivations to keep playing; I like playing as anti-heros or even villains whose motivations are often more interesting and nuanced than a hero’s. But Hollow Knight shows and explains nothing unique about its protagonist. It’s a world I can’t feel attached to because not only is so little explained, but the environmental storytelling doesn’t feel cohesive. Speaking of the world…\\n\\n[h3]Abandoned environments are typically less interesting than pre-abandonment variants[/h3]\\nI want to clarify that abandoned doesn’t inherently include post-apocalyptic; for example, Fallout and Disco Elysium have new, smaller communities that have sprung up after the fall of the previous society. What I mean is primarily exploring a world that was once teeming with life but now has few if any inhabitants. What separates bad abandoned environments in games from good ones is whether the world is competently explained (not over or under explained) and if the player has agency or some kind of investment in the world. SOMA and 2D Metroids have abandoned worlds but both protagonists have their motivations and leave a lasting impact. They also have engrossing stories, SOMA more through dialogue and Metroid more through environmental storytelling.\\nIn Hollow Knight throughout my playthrough I did not exactly know what my goal was or why my character was supposed to do anything really. I felt totally detached from the world, which is a shame because it has some interesting parts and generally great art.\\n\\nThe movement and combat of Hollow Knight are functional but uninteresting. They don’t offer enough variety both from encounter to encounter and throughout the playthrough; the relatively long length of which exacerbates these issues. Which brings me to my final point: the game is too long.\\n\\n[h1]Conclusion[/h1]\\nProbably the most overrated indie game I’ve ever played. That doesn’t mean it’s not good, but it’s not a masterpiece and it's certainly not free from criticism. I can say that the same way I believe that Grand Theft Auto IV is arguably the most overrated game of all time; I feel that the universal acclaim for both of these games drowns out the many legitimate criticisms that can be levied against their designs. I feel it is important both as players and especially as game designers to take a critical look at every game and critique every aspect of it both to better understand what makes games and certain gameplay satisfying and for those who go onto create games themselves to avoid mistakes that other developers have made.\\n\\nThe challenge and difficulty of developing games is that there are so many individual components that indie developers will naturally have to wear multiple hats. \\nI believe that one of the major reasons that Hollow Knight became an indie poster child is because of its art, but it's not backed up by its design.\",\n",
       " \"Hollow Knight's graphics are really stunning, and the soundtrack creates an interesting atmosphere that draws you in. The world is highly complex, resulting in a true masterpiece of game design. When I first explored the underground kingdom of Hallownest, I was drawn to the strange beauty and feeling of unknown that dominated the entire map.\\n\\n[h1] A Visual and Auditory Feast [/h1]\\n\\nHollow Knight's gorgeous art style immediately draws you in with its charm. The game's hand-drawn graphics bring the dark, creepy atmosphere of Hallownest to life in a unique way. Each location is beautifully designed, from the vivid, untamed Greenpath filled with life and danger to the eerily beautiful City of Tears, complete with endless rain and collapsing structures. Each place provides a unique and immersive experience, making the art direction incredibly stunning.\\n\\nThe amazing soundtrack by Christopher Larkin complements the visuals perfectly, enhancing the game's overall sense of wonder and fear. The music captures the essence of Hallownest beautifully, from intense boss battle tracks to haunting piano themes. The detailed sound design also adds to the immersive experience, with every nail strike, enemy movement, and ambient noise enriching the gameplay.\\n\\n[h1] Tight, Rewarding Gameplay [/h1]\\n\\nThe Hollow Knight game gameplay mechanics are something else; they hit that sweet spot between fighting, jumping, and exploring perfectly. The controls are really responsive, making every move you make feel intentional and on point. Equip with just a basic nail as a weapon, the main character moves with such grace and smoothness that navigating tight platforming sections and intense combat sequences becomes a thrill.\\n\\nHollow Knight's combat is difficult but fair. The game is full of different bugs, each with its own attack pattern and specifics, and players must adapt and learn their patterns in order to win. Each boss encounter is a unique experience that requires various strategies in order to win. The feeling of defeating a boss is incredible after you have failed several times.\\n\\nAs you traverse the game, you'll learn new abilities and upgrades that unlock previously inaccessible areas, tempting you to return and explore. The game's presentation of your development and skill growth is spot on, with each new improvement serving as a significant milestone in your path. Each enhancement adds new obstacles to combat and discovery, like the Monarch Wings, that allow you to double jump, and the Mothwing Cloak, that lets you to dash through the air.\\n\\n[h1] Challenging and Rewarding [/h1]\\n\\nHollow Knight is known for its difficulty, which makes it unique. Whether you're dealing with difficult bosses, challenging enemies, or complex platforming parts, this game doesn't hold back. However, the challenge remains reasonable. You've got everything you need to succeed, and every failure helps you master the game's mechanics.\\n\\nWhen you finally conquer these obstacles, the feeling of accomplishment is immense. Each victory feels like a well-deserved triumph because Hollow Knight rewards skill and determination.\\n\\n[h1] Replayability [/h1]\\n\\nHollow Knight is worth every cent compared to the modern game prices. With an enormous world to explore, tons of mysteries to find, and a plot that can take hours upon hours to completely understand, the base game itself is packed with quality. Along with the main campaign, the game offers various endings, which tempt players to take alternative routes and choose different options in order to experience everything Hallownest has to offer.\",\n",
       " 'Après avoir [spoiler]accepté le vide, qui était mon dernier succès[/spoiler], je peux maintenant dire que j’aime le jeu.',\n",
       " \"Hollow Knight is simply one of the most unique Metroidvania titles on the market. It features a combat system that isn't very complex, but still incredibly satisfying. The art style is charming and filled with dread at the same time, making it one of the most visually appealing. The interwoven areas of Hallownest are as rewarding to explore as they're exciting, with each area offering something new, both visually and mechanically. Even the few bugs can't ruin the momentum of this masterpiece of a game.\\r\\nAlthough Hollow Knight's plot is vague and scarce, it does get a little clearer as the player progresses through the game. The tale develops through interactions with various beings and items rather than being presented in a linear fashion; it is crucial to repeatedly speak with NPCs until they begin to repeat themselves. YOU HAVE TO TRY IT [HATE YOU ZOTE]\",\n",
       " '[h1]Final Verdict: [b]98/100[/b][/h1]\\r\\n\\r\\n[b]Exceptional: 95-100 (95-100%)[/b]\\r\\nPerformance or gameplay significantly exceeds the passing mark.\\r\\nRepresents a superior level of quality, remarkable gameplay, and an outstanding gaming experience.\\r\\nHighly Recommended -\\r\\n\\r\\n[h2]Player Opinion Steam Review[/h2]\\r\\n\\r\\n[b]Gameplay Experience (25/25)[/b]\\r\\n\\r\\n[i]Intuitive Controls - Easy to use.[/i]\\r\\n☐ Very Difficult (+1)\\r\\n☐ Difficult (+2)\\r\\n☐ Moderate (+3)\\r\\n☐ Easy (+4)\\r\\n☑ Very Easy (+5)\\r\\n\\r\\n\\r\\n[i]Balanced Gameplay - Fair and equal.[/i]\\r\\n☐ Poorly Balanced (+1)\\r\\n☐ Somewhat Balanced (+2)\\r\\n☐ Moderately Balanced (+3)\\r\\n☐ Well Balanced (+4)\\r\\n☑ Perfectly Balanced (+5)\\r\\n\\r\\n\\r\\n[i]Player Engagement - Involving and captivating.[/i]\\r\\n☐ Not at all (+1)\\r\\n☐ Slightly (+2)\\r\\n☐ Moderately (+3)\\r\\n☐ Very (+4)\\r\\n☑ Extremely (+5)\\r\\n\\r\\n\\r\\n[i]Decision Relevance - Meaningful choices.[/i]\\r\\n☐ Meaningless (+1)\\r\\n☐ Not Meaningful (+2)\\r\\n☐ Somewhat Meaningful (+3)\\r\\n☐ Quite Meaningful (+4)\\r\\n☑ Highly Meaningful (+5)\\r\\n\\r\\n\\r\\n[i]Rewarding Progression - Satisfying advancement.[/i]\\r\\n☐ Very Unsatisfying (+1)\\r\\n☐ Unsatisfying (+2)\\r\\n☐ Neutral (+3)\\r\\n☐ Satisfying (+4)\\r\\n☑ Very Satisfying (+5)\\r\\n\\r\\n\\r\\n[b]Presentation & Immersion (23/25)[/b]\\r\\n\\r\\n[i]Compelling Storyline - Engaging narrative.[/i]\\r\\n☐ Not Interesting (+1)\\r\\n☐ Slightly Interesting (+2)\\r\\n☐ Moderately Interesting (+3)\\r\\n☐ Very Interesting (+4)\\r\\n☑ Extremely Interesting (+5)\\r\\n\\r\\n\\r\\n[i]Immersive Atmosphere - Captivating environment.[/i]\\r\\n☐ Not Immersive (+1)\\r\\n☐ Slightly Immersive(+2)\\r\\n☐ Moderately Immersive (+3)\\r\\n☐ Very Immersive (+4)\\r\\n☑ Completely Immersive (+5)\\r\\n\\r\\n\\r\\n[i]Visual Aesthetics - Stunning graphics.[/i]\\r\\n☐ Not Appealing (+1)\\r\\n☐ Slightly Appealing (+2)\\r\\n☐ Moderately Appealing (+3)\\r\\n☐ Very Appealing (+4)\\r\\n☑ Extremely Appealing (+5)\\r\\n\\r\\n\\r\\n[i]Audio Quality - High-quality sound.[/i]\\r\\n☐ Not Engaging (+1)\\r\\n☐ Slightly Engaging (+2)\\r\\n☐ Moderately Engaging (+3)\\r\\n☐ Very Engaging (+4)\\r\\n☑ Extremely Engaging (+5)\\r\\n\\r\\n\\r\\n[i]Polished HUD - Clean and functional interface.[/i]\\r\\n☐ Very Unfriendly (+1)\\r\\n☐ Unfriendly (+2)\\r\\n☑ Neutral (+3)\\r\\n☐ Friendly (+4)\\r\\n☐ Very Friendly (+5)\\r\\n\\r\\n\\r\\n[b]Design & Technical Aspects (25/25)[/b]\\r\\n\\r\\n[i]Game Design - Well-crafted mechanics.[/i]\\r\\n☐ Poorly Designed (+1)\\r\\n☐ Somewhat Designed (+2)\\r\\n☐ Moderately Designed (+3)\\r\\n☐ Well Designed (+4)\\r\\n☑ Excellently Designed (+5)\\r\\n\\r\\n\\r\\n[i]Content Quality - Rich and diverse.[/i]\\r\\n☐ Poor Content (+1)\\r\\n☐ Limited Content (+2)\\r\\n☐ Moderate Content (+3)\\r\\n☐ Extensive Content (+4)\\r\\n☑ Abundant Content (+5)\\r\\n\\r\\n\\r\\n[i]AI Behavior - Intelligent and realistic.[/i]\\r\\n☐ Very Poor (+1)\\r\\n☐ Poor (+2)\\r\\n☐ Average (+3)\\r\\n☐ Good (+4)\\r\\n☑ Excellent (+5)\\r\\n\\r\\n\\r\\n[i]Settings - Flexible and customizable.[/i]\\r\\n☐ Very Limited (+1)\\r\\n☐ Limited (+2)\\r\\n☐ Moderate (+3)\\r\\n☐ Flexible (+4)\\r\\n☑ Highly Flexible (+5)\\r\\n\\r\\n\\r\\n[i]Technical Issues - Minimal or no problems.[/i]\\r\\n☐ Numerous (+1)\\r\\n☐ Moderate (+2)\\r\\n☐ Limited (+3)\\r\\n☐ Minor (+4)\\r\\n☑ None (+5)\\r\\n\\r\\n\\r\\n[b]Final Considerations (25/25)[/b]\\r\\n\\r\\n[i]Overall Satisfaction - General enjoyment level.[/i]\\r\\n☐ Very Dissatisfied (+1)\\r\\n☐ Dissatisfied (+2)\\r\\n☐ Neutral (+3)\\r\\n☐ Satisfied (+4)\\r\\n☑ Very Satisfied (+5)\\r\\n\\r\\n\\r\\n[i]Microtransactions - In-game purchases.[/i]\\r\\n☐ Extensive (+1)\\r\\n☐ Substantial (+2)\\r\\n☐ Moderate (+3)\\r\\n☐ Minimal (+4)\\r\\n☑ None (+5)\\r\\n\\r\\n\\r\\n[i]Replay Value - Longevity and replayability.[/i]\\r\\n☐ Very Low (+1)\\r\\n☐ Low (+2)\\r\\n☐ Moderate (+3)\\r\\n☐ High (+4)\\r\\n☑ Very High (+5)\\r\\n\\r\\n\\r\\n[i]Cost-to-Play Ratio - Money spent vs hours played.[/i]\\r\\n☐ Overpriced (+1)\\r\\n☐ Poor Value (+2)\\r\\n☐ Fair Value (+3)\\r\\n☐ Good Value (+4)\\r\\n☑ Excellent Value (+5)\\r\\n\\r\\n\\r\\n[i]Recommendation.[/i]\\r\\n☐ No (+0)\\r\\n☑ Yes (+5)\\r\\n',\n",
       " '[h3]Amazing story, exciting gameplay, endearing characters, immersive ambient and battle music. Perfect[/h3]',\n",
       " \"Silksong is just a manifestation of humanity's grief and a testament of how it can conceptualize anything at this point\\r\\n\\r\\n\\r\\n\\r\\n\\r\\n\\r\\n\\r\\n\\r\\n\\r\\n\\r\\n\\r\\n\\r\\n\\r\\n[strike]2020 release date[/strike]\\r\\n[strike]2021 release date[/strike]\\r\\n[strike]2022 release date[/strike]\\r\\n[strike]2023 release date[/strike]\\r\\n[strike]2024 release date[/strike]\\r\\n2025 release date for sure this time\",\n",
       " \"The Pale King realizes that [spoiler]the Pure Vessel is defective[/spoiler], but still uses it to [spoiler]imprison [strike]THE FUCKING MOTH[/strike] The Radiance[/spoiler] - an excellent plan, as reliable as the [spoiler]Millibelle's bank.[/spoiler]. Yes, the whole review is for this joke\",\n",
       " '[b]I am not the same man i used to be before i started this game. [/b]',\n",
       " \"[h1] Hollowing the Knight [/h1]\\r\\nThis game is awesome! My favorite part of it is when Hornet hollowed the knight so the knight could finally be hollow. My only problem with this game is that it's basically just a copy of Halo.\",\n",
       " \"[strike] Hornet is the worst thing to happen to the gaming community, probably why Silksong will never release [/strike]\\n\\nOkay maybe the game isn't so bad\",\n",
       " '[b]If you like Games [i]\"completely devoid of testosterone\" with \"Monochromatic School-Girl Magic\" and \"Estrogen mood-swing\" level difficulty[/i]... Hollow Knight is right up your alley![/b]\\n[i]Knock yourself out! (please)[/i]\\n\\nOtherwise, [i]\"Strider\",  \"Hidden Deep\", \"The Way\", \"Steamworld Dig 2\" and/or \"Huntdown\"[/i] are more appropriate selections for us \\'toxic (not overly) masculine-types\\' wanting to satisfy their Metroidvangina urge.',\n",
       " \"Overall, the game is very good. Many people say it's the best metroidvania around, but since I haven't played any other metroidvanias, I can't say that for sure(it is still an extremely good game.). The graphics and art are very masterfully crafted, with a lot of detail put into the environment/various areas of the game. The atmosphere in this game is really immersive, making exploration very enjoyable(for the most part, Deepnest can go to hell though). The lore isn't told to you directly most of the time but hints surrounding the game's lore is present in the game's various areas in the form of dialogue, etc. The map guy is normally pretty easy to find, with a few exceptions(Fog Canyon), which makes exploration even easier(I have read some negative reviews about the game, where people said the map system was horrible, which it ISN'T(imo), except if you didn't buy a quill and the Wayward Compass charm from the map shop in Dirtmouth, without those two, exploration can indeed become difficult). The combat in this game is incredibly simple, with just 1 weapon and spells(which you will get as you progress the game), but has a high skill ceiling. The bosses in this game are relatively fair and are quite challenging if it's your first playthrough. There are usually benches(save points) quite close to the boss arenas. making backtracking to a boss relatively quick(except for [spoiler] Soul Master [/spoiler] and MAYBE the [spoiler] Mantis Lords [/spoiler]). The game doesn't tell you where to go sometimes, but talking to NPCs and just plain ol' exploring will usually make you know where to go. This game isn't particularly grindy either, as the currency in this game(Geo) is pretty easy to get mid-late game.\\nOh yeah, if you're not sure how something works, try hitting it with your Nail(your weapon) or your [spoiler] Dream Nail [/spoiler] . This game is full to the brim with secrets, so explore! The game does crash rarely, but I think it's more of a compatibility problem. So try this game out! It's really fun!\",\n",
       " \"I used to not really like platformers. I enjoyed Ori (both games) so I figured I would give this a try. I was totally blown away! It's even better. Fun and challenging gameplay, great exploration, not too linear, great music, deep lore, beautiful art.\\r\\n\\r\\nNow that I just beat the game after 40h of gameplay spread through many months, I have deep existential dread and am realising I probably won't ever something as good [and new to me] as this\",\n",
       " '[b] I Fucking Hate The Arena [/b]',\n",
       " 'A negative review for [i]Hollow Knight[/i]? I wondered for a while if I should even post this review, as nothing good can come of going against the majority opinion for a game with universal acclaim, but I finally decided to do it anyway because I want to articulate for myself as well why it is I don\\'t like [i]Hollow Knight[/i], even though on paper I [i]should[/i]. I\\'ve restarted the game three times now with wide intervals in between and I didn\\'t have fun playing it any of these times, so at some point you have to accept defeat.\\n\\nI could leave comments turned off, but [url=https://www.youtube.com/watch?v=HkzMA1jrm00]like Austin Powers, I like to live dangerously[/url]. I already know this is going to attract predictably uninsightful responses of the \"you are objectively wrong\" and \"lol skill issue bro\" variety, but I don\\'t care about that. Just consider that with hundreds of thousands of positive reviews and likewise sales, this review isn\\'t going to hurt [i]Hollow Knight[/i] any, so it doesn\\'t need you to defend it. If you love it, great! You are absolutely not alone. I didn\\'t, and nothing anyone is going to say is going to change that impression either. We don\\'t all have to like the same things, and that\\'s OK.\\n\\nLet\\'s start off first with what I definitely don\\'t have a problem with: [i]Hollow Knight[/i] looks and sounds amazing. The aesthetics of the world and the bug-like creatures that inhabit are fantastic, down to the little sounds and mumbles the enemies make as they putter around. The world is a perfect blend of cute critters and gloomy decay, and the screenshots don\\'t do the dynamic lighting and separate foreground and background scrolling justice. It\\'s not hard to get drawn in.\\n\\nBut that\\'s about where it ends for me. Starting the game, your controls consist of moving left and right, jumping (with midair positioning), and a melee attack you can point left, right, up and down -- and for the first hours of the game, that\\'s it. No dash, roll, parry, double jump or wall jump. Killing standard enemies consists of slashing at them, taking a few steps back to avoid retaliation, slashing, taking a few steps back, repeat. The first new ability you unlock is a long-range attack, but it shares its energy cost with your heal ability, so you aren\\'t going to use it unless you have to -- and you only really have to to clear out that one enemy blocking your progress that can\\'t be defeated any other way. A dash isn\\'t unlocked until you\\'ve defeated the second major boss, which for me was too late, as I\\'d stopped playing by then. Movement and combat are a perfunctory chore, not something you do for fun.\\n\\nThis \"you\\'re not here to have fun\" mentality is pervasive throughout the game. [i]Hollow Knight[/i] is here to make you work for a living. You want a map? That\\'ll cost you money. You want to know where you [i]are[/i] on that map? That\\'ll cost you more money, and for some reason also an item slot, so you\\'re weakening yourself for the privilege. You want NPCs, points of interest, checkpoints that you\\'ve already found indicated on your map? All separate upgrades. You want to [i]update the map as you\\'re exploring[/i]? Well, yes that\\'ll cost you, and you\\'ll also be required to find a checkpoint and rest, as it won\\'t update until then. Now, none of these upgrades are expensive (unlike the cost of some items you need to progress, which is more substantial), so with a minimal bit of grinding you can unlock most of them, but why is the game selling you the solution to the problem it itself created in the first place?\\n\\nApropos checkpoints: yes, you have to discover these, and you better make sure you do so before you get to a (mini) boss, as otherwise you\\'ll be required to trek a [i]long[/i] way to get back to them and recover your money (this game uses the \"get back to your corpse and recover your stuff\" model; you really, really don\\'t want to die a second time, so keep that anxiety in check). As it happens the bosses are never far from a checkpoint, but they\\'re never right next to one either, so you\\'re going to be retracing your steps guaranteed. And the game loves its cheap shots: enemies and hazards that pop up out of the ground, ceiling or background to take a swipe at you that you\\'ll almost certainly get hit by the first time, just to serve as a reminder not to get hit all the other times you pass by this spot, and the bosses will almost certainly kill you the first time around, as their attacks are generally designed to hit you suddenly and decisively. Learning the patterns and overcoming them isn\\'t particularly hard, but making you do the walk of shame after death means it [i]is[/i] tedious.\\n\\nThat, really, is the word that comes to me when I have to describe my experience with [i]Hollow Knight[/i]: tedious. About all it has going for it is the thrill of discovering a new area and eventually defeating a boss (and if you want to be [i]really[/i] generous, uncovering scraps of lore; this is not a plotted story), and for me that wasn\\'t enough to carry the game. As I was playing I constantly asked myself [i]why[/i] I was playing, as I wasn\\'t having any fun, and with over 900 other games on the backlog the choice to just stop and do something else was easily made. In fact I\\'ll be sure to try another metroidvania next, just to reassure myself that it\\'s not the whole genre that I suddenly dislike now, just what\\'s on offer here. Metroidvanias have, after all, come some way since [i]Metroid[/i] -- and even [i]Metroid[/i] gave you the morph ball at the start and the remake [i]Zero Mission[/i] had the courtesy of giving you a map for free.\\n\\nIs [i]Hollow Knight[/i] a bad game? No, obviously not, just look at all the glowing reviews. But [i]Hollow Knight[/i] is a game I did not enjoy playing, and hence something I don\\'t recommend. Given the price point and that it\\'s easy enough to refund I would still very much recommend trying it if it\\'s something that looks like you might like it, because my experience is atypical.',\n",
       " \"Great game with a lot of little nuances to it!\\n\\nMy only gripe is with how much time I invested in getting those last two endings.\\nEvery attempt that I failed cost me several dozens of minutes of my life, so if there is one thing I would suggest to Team Cherry for the future for unlocking the final endings it would be [spoiler]to keep final boss fights/gauntlets to 15 minutes or less! Seriously, I am so mad at how many hours I lost of my life trying to get these endings. 45+ minutes worth of boss fights (consisting almost entirely of bosses I defeated many multiple times prior!!) is too long for a single attempt! [/spoiler]\\n\\nSeriously!\\nI started playing the game on February 26th in bursts of a few hours per every other day or so.\\nAfter trying really hard to get the best ending I could for my first attempt I finally achieved my first ending on April 8th (which was the 2nd ending, though the 3rd ending was the day after thanks to an inspiring d'uh moment of clarity).\\nI got the 4th ending on May 19th after much practice (albeit with a number of no practice days).\\nI finally got the 5th ending on May 29th (with lots of down time since the last attempt).\\n\\nI want to say that 60-something hours was invested in playing the game through blindly for a first time, and that 70-something hours was invested in 'getting good' enough to see the last two endings.\",\n",
       " 'Hollow Knight is a 2017 Metroidvania video game developed and published by independent developer Team Cherry. The player controls the Knight, an insectoid warrior exploring Hallownest, a fallen kingdom plagued by a supernatural disease. The game is set in diverse subterranean locations, featuring friendly and hostile insectoid characters and numerous bosses. Players have the opportunity to unlock abilities as they explore, along with pieces of lore and flavour text that are spread throughout the kingdom.\\r\\n\\r\\nThe concept behind Hollow Knight was conceived in 2013 in the Ludum Dare game jam. Team Cherry wanted to create a game inspired by older platformers that replicated the explorational aspects of its influences. Inspirations for the game include Faxanadu, Metroid, Zelda II: The Adventure of Link, and Mega Man X. Development was partially funded through a Kickstarter crowdfunding campaign that raised over A$57,000 by the end of 2014. It was released for Windows, Linux, and macOS, in early 2017 and for the Nintendo Switch, PlayStation 4, and Xbox One in 2018. After release, Team Cherry supported the game with four free expansions as downloadable content.\\r\\n\\r\\nHollow Knight was well received by critics, with particular praise for its music, art style, worldbuilding, atmosphere, combat and level of difficulty. By February 2019, the game had sold 2.8 million copies. A sequel, Hollow Knight: Silksong, is in development.\\r\\n\\r\\nGameplay\\r\\nThe player character fights the boss enemy False Knight. The full Soul Vessel appears in the top-left corner. To its right, on top, there is only one Ancient Mask (health) remaining. Below the Ancient Mask, the amount of Geo currency is shown.\\r\\nGameplay screenshot in which the player fights a boss enemy, the False Knight\\r\\nHollow Knight is a 2D side-scrolling Metroidvania.[1][2] The player controls an insectoid, silent protagonist called \"the Knight\" who explores an underground fallen kingdom called Hallownest. The Knight can strike enemies with a sword-like weapon called a Nail and can learn spells that allow for long-range attacks.[2][3]\\r\\n\\r\\nDefeated enemies drop the currency called Geo.[3] The Knight starts with a limited number of hit points, which are represented by masks.[4] Mask Shards can be collected throughout the game to increase the player\\'s maximum number of masks. By striking enemies, the Knight gains Soul, which is stored in the Soul Vessel. If all masks are lost, the Knight dies and a Shade enemy appears where they died. The player loses all Geo and can hold a reduced amount of Soul. Players need to defeat the Shade enemy to recover lost Geo and carry the normal amount of Soul.[4] The game continues from the last visited bench the character sat on, which are scattered throughout the game world and act as save points and places where the player can change their charms. Initially the player can only use Soul to \"Focus\" and regenerate masks, but as the game progresses, players unlock and collect several offensive spells which consume Soul.[5] Additional Soul Vessels, used to hold more Soul, can be acquired throughout the game.[4]\\r\\n\\r\\nMany areas feature more challenging enemies and bosses which the player may need to defeat in order to progress further.[3] Defeating some bosses grants the player access to new abilities.[2] Later in the game, players acquire the Dream Nail, a special item that can access the minds of Hallownest\\'s creatures. Hitting most enemies with the Dream Nail deals no damage but gives the Knight extra Soul compared to hitting them with the regular Nail. It also enables the player to face more challenging versions of a few bosses and to break the seal to the final boss.[4] If the player defeats the final boss, they are given access to a mode called \"Steel Soul\". In this mode, dying is permanent, i.e. if the Knight loses all of their masks, the save slot will be reset.[6]\\r\\n\\r\\nDuring the game, the player encounters bug-themed non-player characters (NPCs) with whom they can interact. These characters provide information about the plot and lore, offer aid, and sell items or services.[4] The player can upgrade the Knight\\'s Nail to deal more damage or find Soul Vessels to carry more Soul. Players acquire items that provide movement abilities including an additional mid-air jump (Monarch Wings), adhering to and jumping off walls (Mantis Claw), a quick dash (Mothwing Cloak), and a speedy super dash (Crystal Heart). The player can learn other combat abilities, known as Nail Arts, and spells. To further customise the Knight, players can equip various charms, which can be found or purchased from NPCs. Some of their effects include improved combat abilities or skills, granting more masks with or without the ability to regenerate them with Soul, greater mobility, easier collecting of Geo or Soul, the ability to gain more Geo per enemy, and other transformations to the Knight.[2][4] Equipping a charm takes up a certain number of limited slots, called notches.\\r\\n\\r\\nHallownest consists of several large, inter-connected areas with unique themes.[2] With its nonlinear gameplay Metroidvania design, Hollow Knight does not bind the player to one path nor require them to explore the whole world; there are places that can be missed when finishing the game, though there are obstacles that limit the player\\'s access to various areas. The player may need to acquire a specific movement ability, skill, or item to progress further.[4] To fast travel through the world, the player can use Stag Stations, terminals connected to a network of tunnels that are traversed via giant stag beetles; players can only travel to previously visited and unlocked stations. Other fast travel methods, such as trams, lifts, and the \"Dreamgate\", are encountered later.[3][7]\\r\\n\\r\\nAs the player enters a new area, they do not have access to the map of their surroundings. They must find Cornifer, the cartographer, to buy a rough map.[a] As the player explores an area, the map becomes more accurate and complete, although it is updated only when sitting on a bench. The player will need to buy specific items to complete maps, to see points of interest, and to place markers. The Knight\\'s position on the map can only be seen if the player has the Wayward Compass charm equipped.[1][3]\\r\\n\\r\\nPlot\\r\\nAt the outset, the Knight arrives in Dirtmouth, a quiet town that sits just above the remains of the kingdom of Hallownest. As the Knight ventures through the ruins, they learn that Hallownest was once a flourishing kingdom which fell after becoming overrun with \"The Infection\", a supernatural disease that can infect anyone who has free will. The Infection gives its subjects heightened strength but at the cost of their civility, causing madness and undeath. Hallownest\\'s ruler, The Pale King, had previously attempted to lock away the Infection in the Temple of the Black Egg. Despite the temple\\'s magical seals, the disease managed to escape and Hallownest fell into ruin. The Knight\\'s mission is to find and kill three bugs called the Dreamers, who act as the living seals on the temple door. Once the seals have been removed, the Knight may confront the source of the Infection. This quest brings the Knight into conflict with Hornet, a warrior who tests their combat prowess in several battles.\\r\\n\\r\\nThrough dialogue with non-player characters, environmental imagery, and writings scattered throughout Hallownest, the Knight learns the origins of the Infection. In ancient times, a tribe of moths that lived in Hallownest worshipped the Radiance, a primordial being who could control the minds of other bugs. When the Pale King arrived at Hallownest from afar, he used his powers to give sapience and knowledge to the creatures of the realm. The moths soon joined the other bugs of Hallownest in worshipping the Pale King, draining the power of the Radiance as she was slowly forgotten. Beneath the notice of the Pale King, some worship of the Radiance continued.',\n",
       " \"The first, best and hardest Metroidvania I have ever played.\\n\\n\\n[spoiler]\\nHornet: So.... watcha got there?\\n\\nThe Knight in Shadelord mode and the Radience's guts: A smoothie.\\n[/spoiler]\",\n",
       " '[i] O Gods of Hallownest, show Us your might! We shall attune Ourselves to thee and ascend ever higher! [/i]',\n",
       " 'Game is such a bargain for arguably one of the tightest platformers to come out in the last decade. Amazing world building, loved the story. Got [spoiler]112%[/spoiler] on my first playthrough on Switch, have over 100 hours of playtime. Will purchase Silksong on release date (rumor mill says this year for a release?).',\n",
       " '[h1]Hollow Knight[/h1]\\nCategory: Platformer / Metroidvania\\nYear of release: 2017\\nPrice: 14,80€ (with discount: 7,40€)\\nPlaytime: 20 + - hours\\n\\n[table]\\n[tr]\\n[td]Story[/td]\\n[td]10[/td]\\n[/tr]\\n[tr]\\n[td]Gameplay[/td]\\n[td]10[/td]\\n[/tr]\\n[tr]\\n[td]Atmosphere[/td]\\n[td]10[/td]\\n[/tr]\\n[tr]\\n[td]Graphics[/td]\\n[td]10[/td]\\n[/tr]\\n[tr]\\n[td]Combat[/td]\\n[td]10[/td]\\n[/tr]\\n[tr]\\n[td]Soundtrack[/td]\\n[td]10[/td]\\n[/tr]\\n[tr]\\n[td]Enemies[/td]\\n[td]10[/td]\\n[/tr]\\n[tr]\\n[td]Secrets[/td]\\n[td]9[/td]\\n[/tr]\\n[tr]\\n[td]Bosses[/td]\\n[td]10[/td]\\n[/tr]\\n[tr]\\n[td]Level Design[/td]\\n[td]10[/td]\\n[/tr]\\n[tr]\\n[td][b]99[/b][/td]\\n[td][b]N/A[/b][/td]\\n[/tr]\\n[h1]Positive[/h1]\\n+++ Atmosphere\\n+++ Soundtrack\\n++ Story\\n++ Combat\\n+ Bosses\\n+ Enemies\\n+ Lore\\n+ Achievents\\n+ Secrets\\n+ Map\\n+ Customization\\n+ Characters\\n+ Free DLCs\\n[h1]Negative[/h1]\\n- They should add visible boss health\\n[h1]Conclusion[/h1]\\nEven though im not huge fan of \"souls like\" games i played Ori and the Forest and Will of the Wisps and well i have to try out Hollow Knight, its much harder than Ori but i enjoyed a lot, sometimes i was pain.\\nHighly recommend it its one of the best indie games out there\\n\\n[h1]Personal Verdict: Masterpiece?[/h1]',\n",
       " \"[h1] INDIE MASTERPIECE [/h1]\\n\\n[b] personal opinion [/b]\\nI can highly recommend this game to every metroidvania Fan.\\nHollow Knight have a dark story but beautiful art design but also many cute NPCS.\\nAfter u completed the game you can do 100% and 112% with the Pantheon Content.\\n\\n[b] difficult [/b]\\nThe difficult of this game is sky rocking in early to late game. In Late Game this Game feels for me even with soulslike Game Sense on a moderate level pretty hard and frustrating. The Pantheon, the End Content, is imo harder than any Games I've ever played yet.\\n\\n[b] story [/b]\\nThe story is rly good and deep and there are many site stories of the little bugs. Everything in this game feels really natural. There are 5 endings in this game. But you can see all with one safe.\\n\\n[b] mechanics [/b]\\nThe mechanics are pretty good and uniqueue, I would compare it to my fav platformer: ori will of the wisps.\\n\\n[b] atmosphere [/b]\\nas atmosphere lover, I feel fully soaked in the atmosphere of the biomes and music in this game.\\n\\n[h2] End Conclusion [/h2]\\n[h1] Indie Games are underrated. [/h1]\\nFor 14,79€ you get The Main Story: 20+ Hours, Grim Troupes: 1+ Hours and Endless Godhome late Game Content. Also, there is a big Community with Speed runners and stuff.\",\n",
       " 'I [i] cannot [/i] overstate how much I recommend Hollow Knight. \\r\\n\\r\\n\\r\\n\\r\\n[i] ...and now we wait. [/i]',\n",
       " \"[h1] One of the Strongest Metroidvania's Available [/h1]\\n\\nHollow Knight is a Metroidvania game in which you assume the role of a little Bug who descends into the Hallownest, a Fallen Kingdom now turned into a sort of undead-like wasteland.\\n\\nThe game has all the tropes of a Metroidvania, which includes -but not limited to- power ups which allow you to be more effective in combat and also reach new areas, rewarding perks for exploration, optional areas and a lot more.\\n\\nMusic and overall background sound and ambience in this game is top tier, the game really does a good job at making the Hallownest feel like it was once a bustling hub of civilisation which has now decayed into loneliness and death. The best word I can use to describe the music in the game, outside of combat/boss music, is melancholic.\\n\\nThe game has a lot of backtracking, which is something most people are fine with when it comes to this genre of game however I felt that there was just too little quick/fast travel points in the game. I know this is a huge hot take for this genre but I feel that I shouldn't have to travel over two zones (which I've already done everything in) just to try and see if I can access a new area or corridor. It's definitely not as bad as maybe as I'm making it out to be but I just think maybe one or two extra stag stations might've made travelling around areas I've been through multiple times, a little less tenuous. \\n\\nSide characters and shop keepers in the game are all quirky and somewhat interesting, there's quite a few of them, some of them don't really do much other than offer a small tidbit of lore and a lot of the shopkeepers are at different ends of the map which can be annoying to get to, which feeds off of my previous criticism.\\n\\nThe uniqueness of the bosses/areas and the enemy variety is definitely where the game shines. All of them are extremely creative and you can sort of guess what kind of bug or insect that they're meant to represent when you consider their mannerisms and traits. It's absolutely one of the best parts of the game for me.\\n\\nMechanically the game gives you nothing more than a weapon strike and a jump at the beginning but the more you play and the more you explore you'll get more movement and more types of attacks. The game drip feeds you a lot of the special moves and abilities so you never feel overwhelmed with having too much movement or combat options at any time, by the time you get a new one, you've already mastered when and how to use the previous ones.\\n\\nThe story in Hollow Knight is not obvious, its all passive story telling and reading text on the walls and listening to NPC's, you won't be told outright what happened or what is happening, it's the kind of game where understanding and figuring out the story is a reward in of itself. Or you can just read the wiki or watch a video if you've went through the game and are eager to learn more.\\n\\nOverall, Hollow Knight is a phenomenal game with a lot to do, you'll find yourself lost in this little world and happy when you beat a boss or finally get to explore an area you were previously gated from. 9/10.\"]"
      ]
     },
     "execution_count": 7,
     "metadata": {},
     "output_type": "execute_result"
    }
   ],
   "source": [
    "# 1\n",
    "# Making test dataset\n",
    "\n",
    "def unravel_review_package(package):\n",
    "    return [r\"{}\".format(x[\"review\"]) for x in package[\"reviews\"]]\n",
    "parameters = {\"json\": 1, \"filter\":\"recent\", \"num_per_page\":100, \"language\": \"english\", \"purchase_type\":\"all\", \"day_range\":365, \"cursor\":\"*\"}\n",
    "game = 'Hollow Knight'\n",
    "if game.__class__ == str:\n",
    "    game = find_game_by_name(game)[0]\n",
    "print(game)\n",
    "url = f'https://store.steampowered.com/appreviews/{game}'\n",
    "\n",
    "formatting_texts = []\n",
    "\n",
    "while False:\n",
    "    response = requests.get(url, params=parameters).json()\n",
    "    reviews = unravel_review_package(response)\n",
    "    for review in reviews:\n",
    "        if \"[\" in review:\n",
    "            formatting_texts.append(review)\n",
    "    if len(formatting_texts) > 25:\n",
    "        break\n",
    "    parameters[\"cursor\"] = response[\"cursor\"]\n",
    "formatting_texts"
   ]
  },
  {
   "cell_type": "markdown",
   "metadata": {},
   "source": [
    "# Idea\n",
    "Kerää about 200 table reviewiä niin tietää mitä niille sitten tehdä."
   ]
  },
  {
   "cell_type": "code",
   "execution_count": 11,
   "metadata": {},
   "outputs": [
    {
     "data": {
      "text/html": [
       "<div>\n",
       "<style scoped>\n",
       "    .dataframe tbody tr th:only-of-type {\n",
       "        vertical-align: middle;\n",
       "    }\n",
       "\n",
       "    .dataframe tbody tr th {\n",
       "        vertical-align: top;\n",
       "    }\n",
       "\n",
       "    .dataframe thead th {\n",
       "        text-align: right;\n",
       "    }\n",
       "</style>\n",
       "<table border=\"1\" class=\"dataframe\">\n",
       "  <thead>\n",
       "    <tr style=\"text-align: right;\">\n",
       "      <th></th>\n",
       "      <th>review</th>\n",
       "    </tr>\n",
       "  </thead>\n",
       "  <tbody>\n",
       "    <tr>\n",
       "      <th>0</th>\n",
       "      <td>It's Hollow Knight. It has &gt;95% positive revie...</td>\n",
       "    </tr>\n",
       "    <tr>\n",
       "      <th>1</th>\n",
       "      <td>My review had to be trimmed to fit Steam's lim...</td>\n",
       "    </tr>\n",
       "    <tr>\n",
       "      <th>2</th>\n",
       "      <td>Hollow Knight's graphics are really stunning, ...</td>\n",
       "    </tr>\n",
       "    <tr>\n",
       "      <th>3</th>\n",
       "      <td>Après avoir [spoiler]accepté le vide, qui étai...</td>\n",
       "    </tr>\n",
       "    <tr>\n",
       "      <th>4</th>\n",
       "      <td>Hollow Knight is simply one of the most unique...</td>\n",
       "    </tr>\n",
       "    <tr>\n",
       "      <th>...</th>\n",
       "      <td>...</td>\n",
       "    </tr>\n",
       "    <tr>\n",
       "      <th>122</th>\n",
       "      <td>Many of you will be dead by the time the seque...</td>\n",
       "    </tr>\n",
       "    <tr>\n",
       "      <th>123</th>\n",
       "      <td>i beat this game on xbox and loved it. drop si...</td>\n",
       "    </tr>\n",
       "    <tr>\n",
       "      <th>124</th>\n",
       "      <td>epic</td>\n",
       "    </tr>\n",
       "    <tr>\n",
       "      <th>125</th>\n",
       "      <td>Good Game must play if u like metroidvanias!!</td>\n",
       "    </tr>\n",
       "    <tr>\n",
       "      <th>126</th>\n",
       "      <td>[h1] Header text [/h1]\\n[h3] Header text [/h3]...</td>\n",
       "    </tr>\n",
       "  </tbody>\n",
       "</table>\n",
       "<p>127 rows × 1 columns</p>\n",
       "</div>"
      ],
      "text/plain": [
       "                                                review\n",
       "0    It's Hollow Knight. It has >95% positive revie...\n",
       "1    My review had to be trimmed to fit Steam's lim...\n",
       "2    Hollow Knight's graphics are really stunning, ...\n",
       "3    Après avoir [spoiler]accepté le vide, qui étai...\n",
       "4    Hollow Knight is simply one of the most unique...\n",
       "..                                                 ...\n",
       "122  Many of you will be dead by the time the seque...\n",
       "123  i beat this game on xbox and loved it. drop si...\n",
       "124                                               epic\n",
       "125      Good Game must play if u like metroidvanias!!\n",
       "126  [h1] Header text [/h1]\\n[h3] Header text [/h3]...\n",
       "\n",
       "[127 rows x 1 columns]"
      ]
     },
     "execution_count": 11,
     "metadata": {},
     "output_type": "execute_result"
    }
   ],
   "source": [
    "import pandas as pd\n",
    "df = pd.read_csv(\"test_data_raw.csv\", index_col=0)\n",
    "with open(\"steam_format_example.txt\", \"r\") as file:\n",
    "    df = pd.concat([df, pd.DataFrame({\"review\":[file.read()]})])\n",
    "df.reset_index(drop=True,inplace=True)\n",
    "df"
   ]
  },
  {
   "cell_type": "code",
   "execution_count": null,
   "metadata": {},
   "outputs": [],
   "source": [
    "df = pd.concat([df,pd.DataFrame()])\n",
    "df.head()"
   ]
  },
  {
   "cell_type": "code",
   "execution_count": 32,
   "metadata": {},
   "outputs": [
    {
     "name": "stdout",
     "output_type": "stream",
     "text": [
      "div id=\"ReviewText\">\n",
      "\t\t\t\t\t\t\t\t\n"
     ]
    }
   ],
   "source": [
    "for line in r.text.split(\"<\"):\n",
    "    if 'id=\"ReviewText\"' in line:\n",
    "        print(line)"
   ]
  },
  {
   "cell_type": "code",
   "execution_count": null,
   "metadata": {},
   "outputs": [],
   "source": [
    "df = pd.concat([df,pd.DataFrame({\"review\":})])\n",
    "df.head()"
   ]
  },
  {
   "cell_type": "code",
   "execution_count": 2,
   "metadata": {},
   "outputs": [
    {
     "name": "stdout",
     "output_type": "stream",
     "text": [
      "0\n",
      "1\n",
      "2\n",
      "3\n"
     ]
    },
    {
     "data": {
      "text/plain": [
       "[(1, 2), (3, 4), (5, None)]"
      ]
     },
     "execution_count": 2,
     "metadata": {},
     "output_type": "execute_result"
    }
   ],
   "source": [
    "df[df.duplicated()]\n",
    "int(12.9)\n",
    "for x in range(4):\n",
    "    print(x)\n",
    "review_list = [(1,2),(3,4),(5,6)]\n",
    "review_list[-1] = (review_list[-1][0],None)\n",
    "review_list"
   ]
  },
  {
   "cell_type": "code",
   "execution_count": 22,
   "metadata": {},
   "outputs": [
    {
     "name": "stdout",
     "output_type": "stream",
     "text": [
      "[noparse] Doesn't parse [b]tags[/b] [/noparse] sieniä\n"
     ]
    },
    {
     "data": {
      "text/plain": [
       "\" Doesn't parse [b]tags[/b]  sieniä\""
      ]
     },
     "execution_count": 22,
     "metadata": {},
     "output_type": "execute_result"
    }
   ],
   "source": [
    "import re\n",
    "# For testing\n",
    "temp = \"[noparse] Doesn't parse [b]tags[/b] [/noparse] sieniä\"\n",
    "print(temp)\n",
    "temp = re.sub(r'\\[(/)?noparse\\]', \"\",temp)\n",
    "temp"
   ]
  },
  {
   "cell_type": "code",
   "execution_count": 3,
   "metadata": {},
   "outputs": [],
   "source": [
    "import re\n",
    "#https://realpython.com/intro-to-python-threading/\n",
    "#https://stackoverflow.com/questions/6893968/how-to-get-the-return-value-from-a-thread\n",
    "\n",
    "review_list = df.review.to_list()\n",
    "\n",
    "new_list = list()\n",
    "detections = {\"Non_english\": [],\n",
    "              \"Checkbox\": {\"start\": \"\", \"end\": []},\n",
    "              \"Format\": [],\n",
    "              \"Ascii_art\": []}\n",
    "\n",
    "def cleaner_func(start, end):\n",
    "    global review_list\n",
    "    text:str\n",
    "    for text in review_list[start:end]:\n",
    "        #new_list.append(text.split(\"\\n\\n\"))\n",
    "        # Checkbox listing pattern\n",
    "        if \"☐\" in text and \"☑\" in text:\n",
    "            detections[\"Checkbox\"][\"start\"] = text\n",
    "            temp = text.split(\"\\n\")\n",
    "            #https://stackoverflow.com/questions/12091065/negative-pattern-matching-in-python\n",
    "            temp = \"\\n\".join([x.replace(\"☑ \", \"\").replace(\"\\r\",\"\") for x in temp if \"☐\" not in x])\n",
    "        temp = re.sub(r'\\[(/)?[a-z](\\d)?\\]', \"\", temp)\n",
    "        # Header \"[h1]\", \"[/h1]\"\n",
    "        temp = re.sub(r'\\[(/)?h\\d+\\]', \"\")\n",
    "        # Bold\n",
    "        temp = re.sub(r'\\[(/)?b\\]', \"\",temp)\n",
    "        # Underlined\n",
    "        temp = re.sub(r'\\[(/)?u\\]\\s?', \"\",temp)\n",
    "        # Italic\n",
    "        temp = re.sub(r'\\[(/)?i\\]\\s?', \"\",temp)\n",
    "        # Crossed/strike\n",
    "        temp = re.sub(r'\\[(/)?strike\\]', \"\",temp)\n",
    "        # Hide/spoiler\n",
    "        temp = re.sub(r'\\\\(\\)?spoiler\\]', \"\", temp)\n",
    "        # Noparse (What does this do though?)\n",
    "        temp = re.sub(r'\\[(/)?noparse\\]', \"\",temp)\n",
    "        # Horizontal rule\n",
    "        #TODO\n",
    "        # Replace steam game's link with the game name\n",
    "        #TODO\n",
    "        # Purge links\n",
    "        #TODO\n",
    "        # Bullet list\n",
    "        #TODO\n",
    "        # Ordered list\n",
    "        #TODO\n",
    "        # Quotes\n",
    "        #TODO\n",
    "        # Purge code\n",
    "        #TODO\n",
    "        # Table\n",
    "        #TODO\n",
    "        # 7/10 game -> 7 out of 10\n",
    "        temp = re.sub(r'\\s\\(\\+\\d+\\)', \"\", temp)\n",
    "        # 7 -> seven\n",
    "        #TODO\n",
    "        # Double spaces \"  \" -> \" \"\n",
    "        detections[\"Checkbox\"][\"end\"] = temp\n",
    "        "
   ]
  },
  {
   "cell_type": "code",
   "execution_count": 4,
   "metadata": {},
   "outputs": [
    {
     "name": "stdout",
     "output_type": "stream",
     "text": [
      "[(0, 63), (63, 126)]\n"
     ]
    }
   ],
   "source": [
    "import threading\n",
    "def cleaner(num_thread = 1):\n",
    "    \"\"\"\n",
    "    Input : Pandas (future Polars) dataframe\n",
    "    Output: Cleaned dataframe\n",
    "    \"\"\"\n",
    "    global review_list\n",
    "    assert num_thread.__class__ == int\n",
    "    if num_thread < 1:\n",
    "        raise TypeError(\"Cannot have less than one (<1) threads\")\n",
    "    if num_thread != 1 and len(review_list) > 1:\n",
    "        task_size = round(len(review_list) / num_thread)\n",
    "        task_indexes = list()\n",
    "        for x in range(num_thread):\n",
    "            task_indexes.append((x*task_size,(x+1)*task_size))\n",
    "        print(task_indexes)\n",
    "        task_indexes[-1] = (task_indexes[-1][0],None)\n",
    "    else:\n",
    "        cleaner_func(0,None)\n",
    "        return\n",
    "\n",
    "    #parts = [(start,end) for part in range(len(review_list))]\n",
    "    # IGNORE\n",
    "    # First thread to be activated gets the tail end of data for that might have 1 more row of data\n",
    "    # IGNORE\n",
    "\n",
    "    threads = list()\n",
    "    for x in range(num_thread):\n",
    "        thread_obj = threading.Thread(target=cleaner_func, args=task_indexes[x])\n",
    "        threads.append(thread_obj)\n",
    "        thread_obj.start()\n",
    "    for x in range(num_thread):\n",
    "        threads[x].join()\n",
    "    return\n",
    "\n",
    "\n",
    "cleaner(num_thread=2)"
   ]
  },
  {
   "cell_type": "code",
   "execution_count": 5,
   "metadata": {},
   "outputs": [
    {
     "name": "stdout",
     "output_type": "stream",
     "text": [
      "Final Verdict: 98/100\n",
      "\n",
      "Exceptional: 95-100 (95-100%)\n",
      "Performance or gameplay significantly exceeds the passing mark.\n",
      "Represents a superior level of quality, remarkable gameplay, and an outstanding gaming experience.\n",
      "Highly Recommended -\n",
      "\n",
      "Player Opinion Steam Review\n",
      "\n",
      "Gameplay Experience (25/25)\n",
      "\n",
      "Intuitive Controls - Easy to use.\n",
      "Very Easy\n",
      "\n",
      "\n",
      "Balanced Gameplay - Fair and equal.\n",
      "Perfectly Balanced\n",
      "\n",
      "\n",
      "Player Engagement - Involving and captivating.\n",
      "Extremely\n",
      "\n",
      "\n",
      "Decision Relevance - Meaningful choices.\n",
      "Highly Meaningful\n",
      "\n",
      "\n",
      "Rewarding Progression - Satisfying advancement.\n",
      "Very Satisfying\n",
      "\n",
      "\n",
      "Presentation & Immersion (23/25)\n",
      "\n",
      "Compelling Storyline - Engaging narrative.\n",
      "Extremely Interesting\n",
      "\n",
      "\n",
      "Immersive Atmosphere - Captivating environment.\n",
      "Completely Immersive\n",
      "\n",
      "\n",
      "Visual Aesthetics - Stunning graphics.\n",
      "Extremely Appealing\n",
      "\n",
      "\n",
      "Audio Quality - High-quality sound.\n",
      "Extremely Engaging\n",
      "\n",
      "\n",
      "Polished HUD - Clean and functional interface.\n",
      "Neutral\n",
      "\n",
      "\n",
      "Design & Technical Aspects (25/25)\n",
      "\n",
      "Game Design - Well-crafted mechanics.\n",
      "Excellently Designed\n",
      "\n",
      "\n",
      "Content Quality - Rich and diverse.\n",
      "Abundant Content\n",
      "\n",
      "\n",
      "AI Behavior - Intelligent and realistic.\n",
      "Excellent\n",
      "\n",
      "\n",
      "Settings - Flexible and customizable.\n",
      "Highly Flexible\n",
      "\n",
      "\n",
      "Technical Issues - Minimal or no problems.\n",
      "None\n",
      "\n",
      "\n",
      "Final Considerations (25/25)\n",
      "\n",
      "Overall Satisfaction - General enjoyment level.\n",
      "Very Satisfied\n",
      "\n",
      "\n",
      "Microtransactions - In-game purchases.\n",
      "None\n",
      "\n",
      "\n",
      "Replay Value - Longevity and replayability.\n",
      "Very High\n",
      "\n",
      "\n",
      "Cost-to-Play Ratio - Money spent vs hours played.\n",
      "Excellent Value\n",
      "\n",
      "\n",
      "Recommendation.\n",
      "Yes\n",
      "\n"
     ]
    }
   ],
   "source": [
    "print(detections[\"Checkbox\"][\"end\"])"
   ]
  },
  {
   "cell_type": "code",
   "execution_count": 6,
   "metadata": {},
   "outputs": [
    {
     "name": "stdout",
     "output_type": "stream",
     "text": [
      "Final Verdict: 98/100\n",
      "\n",
      "Exceptional: 95-100 (95-100%)\n",
      "Performance or gameplay significantly exceeds the passing mark.\n",
      "Represents a superior level of quality, remarkable gameplay, and an outstanding gaming experience.\n",
      "Highly Recommended -\n",
      "\n",
      "Player Opinion Steam Review\n",
      "\n",
      "Gameplay Experience (25/25)\n",
      "\n",
      "Intuitive Controls - Easy to use.\n",
      "Very Easy\n",
      "\n",
      "\n",
      "Balanced Gameplay - Fair and equal.\n",
      "Perfectly Balanced\n",
      "\n",
      "\n",
      "Player Engagement - Involving and captivating.\n",
      "Extremely\n",
      "\n",
      "\n",
      "Decision Relevance - Meaningful choices.\n",
      "Highly Meaningful\n",
      "\n",
      "\n",
      "Rewarding Progression - Satisfying advancement.\n",
      "Very Satisfying\n",
      "\n",
      "\n",
      "Presentation & Immersion (23/25)\n",
      "\n",
      "Compelling Storyline - Engaging narrative.\n",
      "Extremely Interesting\n",
      "\n",
      "\n",
      "Immersive Atmosphere - Captivating environment.\n",
      "Completely Immersive\n",
      "\n",
      "\n",
      "Visual Aesthetics - Stunning graphics.\n",
      "Extremely Appealing\n",
      "\n",
      "\n",
      "Audio Quality - High-quality sound.\n",
      "Extremely Engaging\n",
      "\n",
      "\n",
      "Polished HUD - Clean and functional interface.\n",
      "Neutral\n",
      "\n",
      "\n",
      "Design & Technical Aspects (25/25)\n",
      "\n",
      "Game Design - Well-crafted mechanics.\n",
      "Excellently Designed\n",
      "\n",
      "\n",
      "Content Quality - Rich and diverse.\n",
      "Abundant Content\n",
      "\n",
      "\n",
      "AI Behavior - Intelligent and realistic.\n",
      "Excellent\n",
      "\n",
      "\n",
      "Settings - Flexible and customizable.\n",
      "Highly Flexible\n",
      "\n",
      "\n",
      "Technical Issues - Minimal or no problems.\n",
      "None\n",
      "\n",
      "\n",
      "Final Considerations (25/25)\n",
      "\n",
      "Overall Satisfaction - General enjoyment level.\n",
      "Very Satisfied\n",
      "\n",
      "\n",
      "Microtransactions - In-game purchases.\n",
      "None\n",
      "\n",
      "\n",
      "Replay Value - Longevity and replayability.\n",
      "Very High\n",
      "\n",
      "\n",
      "Cost-to-Play Ratio - Money spent vs hours played.\n",
      "Excellent Value\n",
      "\n",
      "\n",
      "Recommendation.\n",
      "Yes\n",
      "\n"
     ]
    }
   ],
   "source": [
    "#print(detections[\"Checkbox\"][\"end\"])\n",
    "text = detections[\"Checkbox\"][\"start\"].split(\"\\n\")\n",
    "temp = \"\\n\".join([x.replace(\"☑ \", \"\").replace(\"\\r\",\"\") for x in text if \"☐\" not in x])\n",
    "temp = re.sub(r'\\s\\(\\+\\d+\\)', \"\", temp)\n",
    "temp = re.sub(r'\\[(/)?[a-z](\\d)?\\]', \"\", temp)\n",
    "print(temp)"
   ]
  }
 ],
 "metadata": {
  "kernelspec": {
   "display_name": "Python 3",
   "language": "python",
   "name": "python3"
  },
  "language_info": {
   "codemirror_mode": {
    "name": "ipython",
    "version": 3
   },
   "file_extension": ".py",
   "mimetype": "text/x-python",
   "name": "python",
   "nbconvert_exporter": "python",
   "pygments_lexer": "ipython3",
   "version": "3.12.3"
  }
 },
 "nbformat": 4,
 "nbformat_minor": 2
}

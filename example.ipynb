{
 "cells": [
  {
   "cell_type": "code",
   "execution_count": 7,
   "metadata": {},
   "outputs": [
    {
     "data": {
      "text/plain": [
       "200"
      ]
     },
     "execution_count": 7,
     "metadata": {},
     "output_type": "execute_result"
    }
   ],
   "source": [
    "import requests\n",
    "import os\n",
    "from dotenv import load_dotenv\n",
    "load_dotenv()\n",
    "#253230 A Hat in Time\n",
    "#433340 Slime Rancher\n",
    "#367520 Hollow Knight\n",
    "site = os.getenv('CLOUD_SITE')\n",
    "games =\"253230,Warframe,Webbed,433340,367520\"\n",
    "response = requests.get(f'http://{site}/api/v1/process_many_games', params={\"games\":games})\n",
    "#response = requests.get(\"http://localhost:5006/api/v1/check_date_when\", params={\"game_name\": \"Warframe\", \"method\":\"number_graph\"})\n",
    "response.status_code"
   ]
  },
  {
   "cell_type": "code",
   "execution_count": 9,
   "metadata": {},
   "outputs": [
    {
     "data": {
      "text/plain": [
       "200"
      ]
     },
     "execution_count": 9,
     "metadata": {},
     "output_type": "execute_result"
    }
   ],
   "source": [
    "#site = \"localhost:5006\" #localhost\n",
    "#253230 A Hat in Time\n",
    "#433340 Slime Rancher\n",
    "#367520 Hollow Knight\n",
    "#games =\"Webbed\"\n",
    "response = requests.get(f'http://{site}/api/v1/process_many_games', params={\"games\":games})\n",
    "#response = requests.get(\"http://localhost:5006/api/v1/check_date_when\", params={\"game_name\": \"Warframe\", \"method\":\"number_graph\"})\n",
    "response.status_code"
   ]
  },
  {
   "cell_type": "code",
   "execution_count": 13,
   "metadata": {},
   "outputs": [],
   "source": [
    "response = requests.get(f'http://{site}/api/v1/build/many_raw_number_graph',params={\"games\":games})"
   ]
  },
  {
   "cell_type": "code",
   "execution_count": 14,
   "metadata": {},
   "outputs": [
    {
     "data": {
      "text/plain": [
       "['{\"253230\":\"<!doctype html>\\\\n<html lang=en>\\\\n<title>500 Internal Server Error</title>\\\\n<h1>Internal Server Error</h1>\\\\n<p>The server encountered an internal error and was unable to complete your request. Either the server is overloaded or there is an error in the application.</p>\\\\n\"',\n",
       " '\"367520\":\"<!doctype html>\\\\n<html lang=en>\\\\n<title>500 Internal Server Error</title>\\\\n<h1>Internal Server Error</h1>\\\\n<p>The server encountered an internal error and was unable to complete your request. Either the server is overloaded or there is an error in the application.</p>\\\\n\"',\n",
       " '\"433340\":\"<!doctype html>\\\\n<html lang=en>\\\\n<title>500 Internal Server Error</title>\\\\n<h1>Internal Server Error</h1>\\\\n<p>The server encountered an internal error and was unable to complete your request. Either the server is overloaded or there is an error in the application.</p>\\\\n\"',\n",
       " '\"Warframe\":\"<!doctype html>\\\\n<html lang=en>\\\\n<title>500 Internal Server Error</title>\\\\n<h1>Internal Server Error</h1>\\\\n<p>The server encountered an internal error and was unable to complete your request. Either the server is overloaded or there is an error in the application.</p>\\\\n\"',\n",
       " '\"Webbed\":\"<!doctype html>\\\\n<html lang=en>\\\\n<title>500 Internal Server Error</title>\\\\n<h1>Internal Server Error</h1>\\\\n<p>The server encountered an internal error and was unable to complete your request. Either the server is overloaded or there is an error in the application.</p>\\\\n\"}\\n']"
      ]
     },
     "execution_count": 14,
     "metadata": {},
     "output_type": "execute_result"
    }
   ],
   "source": [
    "response.text.split(\",\")"
   ]
  },
  {
   "cell_type": "markdown",
   "metadata": {},
   "source": [
    "{\"minecraft\": \"Not here\", \"Webbed\": {\"processed\": \"2023-11-26\", \"number_graph\": \"2023-11-26\"}, \"Warframe\": {\"processed\": \"2023-11-26\"}}"
   ]
  },
  {
   "cell_type": "code",
   "execution_count": 8,
   "metadata": {},
   "outputs": [
    {
     "data": {
      "text/plain": [
       "200"
      ]
     },
     "execution_count": 8,
     "metadata": {},
     "output_type": "execute_result"
    }
   ],
   "source": [
    "response = requests.get(f'http://{site}/api/v1/build/many_raw_number_graph',params={\"games\":games})\n",
    "response.status_code"
   ]
  },
  {
   "cell_type": "code",
   "execution_count": 9,
   "metadata": {},
   "outputs": [
    {
     "data": {
      "text/plain": [
       "['{\"253230\":\"<!doctype html>\\\\n<html lang=en>\\\\n<title>500 Internal Server Error</title>\\\\n<h1>Internal Server Error</h1>\\\\n<p>The server encountered an internal error and was unable to complete your request. Either the server is overloaded or there is an error in the application.</p>\\\\n\"',\n",
       " '\"367520\":\"<!doctype html>\\\\n<html lang=en>\\\\n<title>500 Internal Server Error</title>\\\\n<h1>Internal Server Error</h1>\\\\n<p>The server encountered an internal error and was unable to complete your request. Either the server is overloaded or there is an error in the application.</p>\\\\n\"',\n",
       " '\"433340\":\"<!doctype html>\\\\n<html lang=en>\\\\n<title>500 Internal Server Error</title>\\\\n<h1>Internal Server Error</h1>\\\\n<p>The server encountered an internal error and was unable to complete your request. Either the server is overloaded or there is an error in the application.</p>\\\\n\"',\n",
       " '\"Warframe\":\"<!doctype html>\\\\n<html lang=en>\\\\n<title>500 Internal Server Error</title>\\\\n<h1>Internal Server Error</h1>\\\\n<p>The server encountered an internal error and was unable to complete your request. Either the server is overloaded or there is an error in the application.</p>\\\\n\"',\n",
       " '\"Webbed\":\"<!doctype html>\\\\n<html lang=en>\\\\n<title>500 Internal Server Error</title>\\\\n<h1>Internal Server Error</h1>\\\\n<p>The server encountered an internal error and was unable to complete your request. Either the server is overloaded or there is an error in the application.</p>\\\\n\"}\\n']"
      ]
     },
     "execution_count": 9,
     "metadata": {},
     "output_type": "execute_result"
    }
   ],
   "source": [
    "response.text.split(\",\")"
   ]
  },
  {
   "cell_type": "code",
   "execution_count": 4,
   "metadata": {},
   "outputs": [
    {
     "data": {
      "text/plain": [
       "'{\"Warframe\":\"Success\",\"Webbed\":\"Success\"}\\n'"
      ]
     },
     "execution_count": 4,
     "metadata": {},
     "output_type": "execute_result"
    }
   ],
   "source": [
    "response.text"
   ]
  },
  {
   "cell_type": "code",
   "execution_count": null,
   "metadata": {},
   "outputs": [],
   "source": [
    "{\"minecraft\": \"Not here\", \"Webbed\": {\"processed\": \"2023-11-21\"}}"
   ]
  }
 ],
 "metadata": {
  "kernelspec": {
   "display_name": "Python 3",
   "language": "python",
   "name": "python3"
  },
  "language_info": {
   "codemirror_mode": {
    "name": "ipython",
    "version": 3
   },
   "file_extension": ".py",
   "mimetype": "text/x-python",
   "name": "python",
   "nbconvert_exporter": "python",
   "pygments_lexer": "ipython3",
   "version": "3.11.0"
  }
 },
 "nbformat": 4,
 "nbformat_minor": 2
}
